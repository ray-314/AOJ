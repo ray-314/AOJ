{
 "cells": [
  {
   "cell_type": "markdown",
   "metadata": {},
   "source": [
    "## ITP1_6_B\n",
    "Finding Missing Cards"
   ]
  },
  {
   "cell_type": "markdown",
   "metadata": {},
   "source": [
    "I have to write a program which outputs the missing cards"
   ]
  },
  {
   "cell_type": "code",
   "execution_count": 5,
   "metadata": {},
   "outputs": [
    {
     "name": "stdout",
     "output_type": "stream",
     "text": [
      "3\n",
      "S 3\n",
      "H 13\n",
      "D 1\n",
      "S 1\n",
      "S 2\n",
      "S 4\n",
      "S 5\n",
      "S 6\n",
      "S 7\n",
      "S 8\n",
      "S 9\n",
      "S 10\n",
      "S 11\n",
      "S 12\n",
      "S 13\n",
      "H 1\n",
      "H 2\n",
      "H 3\n",
      "H 4\n",
      "H 5\n",
      "H 6\n",
      "H 7\n",
      "H 8\n",
      "H 9\n",
      "H 10\n",
      "H 11\n",
      "H 12\n",
      "C 1\n",
      "C 2\n",
      "C 3\n",
      "C 4\n",
      "C 5\n",
      "C 6\n",
      "C 7\n",
      "C 8\n",
      "C 9\n",
      "C 10\n",
      "C 11\n",
      "C 12\n",
      "C 13\n",
      "D 2\n",
      "D 3\n",
      "D 4\n",
      "D 5\n",
      "D 6\n",
      "D 7\n",
      "D 8\n",
      "D 9\n",
      "D 10\n",
      "D 11\n",
      "D 12\n",
      "D 13\n"
     ]
    }
   ],
   "source": [
    "n = int(input())\n",
    "x = [input().split() for i in range(n)]\n",
    "\n",
    "y=list()\n",
    "s = [\"S\", \"H\", \"C\", \"D\"]\n",
    "m = [str(i) for i in range(1,14)]\n",
    "\n",
    "for i in s:\n",
    "    for j in m:\n",
    "        if [i, j] not in x:\n",
    "            y.append([i, j])\n",
    "\n",
    "for i in range(len(y)):\n",
    "    print(*y[i])"
   ]
  },
  {
   "cell_type": "code",
   "execution_count": null,
   "metadata": {},
   "outputs": [],
   "source": []
  }
 ],
 "metadata": {
  "kernelspec": {
   "display_name": "Python 3",
   "language": "python",
   "name": "python3"
  },
  "language_info": {
   "codemirror_mode": {
    "name": "ipython",
    "version": 3
   },
   "file_extension": ".py",
   "mimetype": "text/x-python",
   "name": "python",
   "nbconvert_exporter": "python",
   "pygments_lexer": "ipython3",
   "version": "3.8.5"
  }
 },
 "nbformat": 4,
 "nbformat_minor": 4
}
