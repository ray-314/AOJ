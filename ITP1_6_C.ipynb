{
 "cells": [
  {
   "cell_type": "markdown",
   "metadata": {},
   "source": [
    "## ITP1_6_C\n",
    "Official House"
   ]
  },
  {
   "cell_type": "markdown",
   "metadata": {},
   "source": [
    "I have to write a program which"
   ]
  },
  {
   "cell_type": "markdown",
   "metadata": {},
   "source": [
    "### Description\n",
    "0<=v persons entered  \n",
    "1<=r<=10 room  \n",
    "1<=f<=3 flor  \n",
    "1<=b<=4 building  \n",
    "n the number of notices (number of row)"
   ]
  },
  {
   "cell_type": "markdown",
   "metadata": {},
   "source": [
    "### Input composition\n",
    "n <br>\n",
    "b f r v "
   ]
  },
  {
   "cell_type": "markdown",
   "metadata": {},
   "source": [
    "### Part 1\n",
    "The following code can not add persons, if the number of building, floor and room are the same"
   ]
  },
  {
   "cell_type": "code",
   "execution_count": 28,
   "metadata": {},
   "outputs": [
    {
     "name": "stdin",
     "output_type": "stream",
     "text": [
      " 3\n",
      " 1 1 3 8\n",
      " 3 2 2 7\n",
      " 4 3 8 1\n"
     ]
    },
    {
     "name": "stdout",
     "output_type": "stream",
     "text": [
      " 0 0 8 0 0 0 0 0 0 0\n",
      " 0 0 0 0 0 0 0 0 0 0\n",
      " 0 0 0 0 0 0 0 0 0 0\n",
      "####################\n",
      " 0 0 0 0 0 0 0 0 0 0\n",
      " 0 0 0 0 0 0 0 0 0 0\n",
      " 0 0 0 0 0 0 0 0 0 0\n",
      "####################\n",
      " 0 0 0 0 0 0 0 0 0 0\n",
      " 0 7 0 0 0 0 0 0 0 0\n",
      " 0 0 0 0 0 0 0 0 0 0\n",
      "####################\n",
      " 0 0 0 0 0 0 0 0 0 0\n",
      " 0 0 0 0 0 0 0 0 0 0\n",
      " 0 0 0 0 0 0 0 1 0 0\n"
     ]
    }
   ],
   "source": [
    "n = int(input())\n",
    "x = list()\n",
    "for i in range(n):\n",
    "    x.append(list(map(int, input().split())))\n",
    "count = 0\n",
    "for i in range(4):\n",
    "    for j in range(3):\n",
    "        for k in range(10):\n",
    "            if x[count][0:3]==[i+1, j+1, k+1]:\n",
    "                if k!=9:\n",
    "                    print(f\" {x[count][3]}\",end=\"\")\n",
    "                else:\n",
    "                    print(f\" {x[count][3]}\")\n",
    "                if count<n-1:\n",
    "                    count += 1\n",
    "                        \n",
    "            elif k!=9:\n",
    "                print(f\" {0}\",end=\"\")\n",
    "            else:\n",
    "                print(f\" {0}\")\n",
    "    if i<3:\n",
    "        for l in range(20):\n",
    "            if l!=19:\n",
    "                print(\"#\",end=\"\")\n",
    "            else:\n",
    "                print(\"#\")"
   ]
  },
  {
   "cell_type": "markdown",
   "metadata": {},
   "source": [
    "### Part 2\n",
    "But the following code is no problem.  \n",
    "It can add persons when you need it"
   ]
  },
  {
   "cell_type": "code",
   "execution_count": 46,
   "metadata": {},
   "outputs": [
    {
     "name": "stdin",
     "output_type": "stream",
     "text": [
      " 4\n",
      " 1 1 1 8\n",
      " 1 1 1 -2\n",
      " 1 1 2 1\n",
      " 1 1 2 1\n"
     ]
    },
    {
     "name": "stdout",
     "output_type": "stream",
     "text": [
      " 6 2 0 0 0 0 0 0 0 0\n",
      " 0 0 0 0 0 0 0 0 0 0\n",
      " 0 0 0 0 0 0 0 0 0 0\n",
      "####################\n",
      " 0 0 0 0 0 0 0 0 0 0\n",
      " 0 0 0 0 0 0 0 0 0 0\n",
      " 0 0 0 0 0 0 0 0 0 0\n",
      "####################\n",
      " 0 0 0 0 0 0 0 0 0 0\n",
      " 0 0 0 0 0 0 0 0 0 0\n",
      " 0 0 0 0 0 0 0 0 0 0\n",
      "####################\n",
      " 0 0 0 0 0 0 0 0 0 0\n",
      " 0 0 0 0 0 0 0 0 0 0\n",
      " 0 0 0 0 0 0 0 0 0 0\n"
     ]
    }
   ],
   "source": [
    "n = int(input())\n",
    "x = list()\n",
    "for i in range(n):\n",
    "    x.append(list(map(int, input().split())))\n",
    "x.sort()\n",
    "count = 0\n",
    "for i in range(4):\n",
    "    for j in range(3):\n",
    "        for k in range(10):\n",
    "            if x[count][0:3]==[i+1, j+1, k+1]:\n",
    "                z=count\n",
    "                if count<n-1:\n",
    "                    count += 1\n",
    "                    while x[count-1][0:3]==x[count][0:3]:\n",
    "                        if count>=n-1:\n",
    "                            count += 1\n",
    "                            break\n",
    "                        count += 1\n",
    "                for l in range(count-z-1):\n",
    "                    x[z][3]=x[z][3]+x[z+l+1][3]\n",
    "                if count>=n:\n",
    "                    count -= 1\n",
    "                if k!=9:\n",
    "                    print(f\" {x[z][3]}\",end=\"\")\n",
    "                else:\n",
    "                    print(f\" {x[z][3]}\")\n",
    "                        \n",
    "            elif k!=9:\n",
    "                print(f\" {0}\",end=\"\")\n",
    "            else:\n",
    "                print(f\" {0}\")\n",
    "    if i<3:\n",
    "        for l in range(20):\n",
    "            if l!=19:\n",
    "                print(\"#\",end=\"\")\n",
    "            else:\n",
    "                print(\"#\")"
   ]
  }
 ],
 "metadata": {
  "kernelspec": {
   "display_name": "Python 3",
   "language": "python",
   "name": "python3"
  },
  "language_info": {
   "codemirror_mode": {
    "name": "ipython",
    "version": 3
   },
   "file_extension": ".py",
   "mimetype": "text/x-python",
   "name": "python",
   "nbconvert_exporter": "python",
   "pygments_lexer": "ipython3",
   "version": "3.8.5"
  }
 },
 "nbformat": 4,
 "nbformat_minor": 4
}
