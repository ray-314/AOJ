{
 "cells": [
  {
   "cell_type": "markdown",
   "metadata": {},
   "source": [
    "## ITP1_3_B\n",
    "Print Test Cases"
   ]
  },
  {
   "cell_type": "markdown",
   "metadata": {},
   "source": [
    "I have to write a program which reads an integer x and print it as is"
   ]
  },
  {
   "cell_type": "code",
   "execution_count": 3,
   "metadata": {},
   "outputs": [
    {
     "name": "stdout",
     "output_type": "stream",
     "text": [
      "1\n",
      "2\n",
      "3\n",
      "4\n",
      "5\n",
      "0\n",
      "Case 1: 1\n",
      "Case 2: 2\n",
      "Case 3: 3\n",
      "Case 4: 4\n",
      "Case 5: 5\n"
     ]
    }
   ],
   "source": [
    "db=list()\n",
    "while True:\n",
    "    x=int(input())\n",
    "    if x==0:\n",
    "        break\n",
    "    db.append(x)\n",
    "for i in range(len(db)):\n",
    "    print(f\"Case {i+1}: {db[i]}\")"
   ]
  }
 ],
 "metadata": {
  "kernelspec": {
   "display_name": "Python 3",
   "language": "python",
   "name": "python3"
  },
  "language_info": {
   "codemirror_mode": {
    "name": "ipython",
    "version": 3
   },
   "file_extension": ".py",
   "mimetype": "text/x-python",
   "name": "python",
   "nbconvert_exporter": "python",
   "pygments_lexer": "ipython3",
   "version": "3.8.3"
  }
 },
 "nbformat": 4,
 "nbformat_minor": 4
}
