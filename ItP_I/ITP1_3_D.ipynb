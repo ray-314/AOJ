{
 "cells": [
  {
   "cell_type": "markdown",
   "metadata": {},
   "source": [
    "## ITP1_3_D\n",
    "How Many Divisors?"
   ]
  },
  {
   "cell_type": "markdown",
   "metadata": {},
   "source": [
    "I have to write a program which reads three integers a, b and c, and prints the number of divisors of c between a and b."
   ]
  },
  {
   "cell_type": "code",
   "execution_count": 11,
   "metadata": {},
   "outputs": [
    {
     "name": "stdout",
     "output_type": "stream",
     "text": [
      "5 14 80\n",
      "3\n"
     ]
    }
   ],
   "source": [
    "a,b,c = map(int,input().split())\n",
    "count=0\n",
    "for i in range(a,b+1):\n",
    "    if c%i==0:\n",
    "        count += 1\n",
    "print(count)"
   ]
  },
  {
   "cell_type": "markdown",
   "metadata": {},
   "source": [
    "The following code shows how many divisors of a and b are among the divisors of c."
   ]
  },
  {
   "cell_type": "code",
   "execution_count": 9,
   "metadata": {},
   "outputs": [
    {
     "name": "stdout",
     "output_type": "stream",
     "text": [
      "13 13 26\n",
      "2\n"
     ]
    }
   ],
   "source": [
    "x=list(map(int, input().split()))\n",
    "y=[[],[],[]]\n",
    "\n",
    "for i in range(len(x)):\n",
    "    for j in range(1,x[i]+1):\n",
    "        if x[i]%j== 0:\n",
    "            y[i].append(j)\n",
    "\n",
    "print(len((set(y[0]) | set(y[1])) & set(y[2])))"
   ]
  }
 ],
 "metadata": {
  "kernelspec": {
   "display_name": "Python 3",
   "language": "python",
   "name": "python3"
  },
  "language_info": {
   "codemirror_mode": {
    "name": "ipython",
    "version": 3
   },
   "file_extension": ".py",
   "mimetype": "text/x-python",
   "name": "python",
   "nbconvert_exporter": "python",
   "pygments_lexer": "ipython3",
   "version": "3.8.3"
  }
 },
 "nbformat": 4,
 "nbformat_minor": 4
}
