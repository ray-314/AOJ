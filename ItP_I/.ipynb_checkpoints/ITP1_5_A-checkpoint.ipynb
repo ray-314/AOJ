{
 "cells": [
  {
   "cell_type": "markdown",
   "metadata": {},
   "source": [
    "## ITP1_5_A\n",
    "Print a Rectangle"
   ]
  },
  {
   "cell_type": "markdown",
   "metadata": {},
   "source": [
    "I have to draw a rectangle which has a height of H cm and a width of W cm. Draw a 1-cm square by single '#'."
   ]
  },
  {
   "cell_type": "code",
   "execution_count": 4,
   "metadata": {},
   "outputs": [
    {
     "name": "stdout",
     "output_type": "stream",
     "text": [
      "3 4\n",
      "5 6\n",
      "2 2\n",
      "0 0\n",
      "####\n",
      "####\n",
      "####\n",
      "\n",
      "######\n",
      "######\n",
      "######\n",
      "######\n",
      "######\n",
      "\n",
      "##\n",
      "##\n",
      "\n"
     ]
    }
   ],
   "source": [
    "x=list()\n",
    "while True:\n",
    "    z=list(map(int, input().split()))\n",
    "    if z[0]==0 and z[1]==0:\n",
    "        break\n",
    "    x.append(z)\n",
    "\n",
    "for i in range(len(x)):\n",
    "    for j in range(x[i][0]):\n",
    "        for k in range(x[i][1]):\n",
    "            print(\"#\", end=\"\")\n",
    "        print()\n",
    "    print()"
   ]
  },
  {
   "cell_type": "code",
   "execution_count": 14,
   "metadata": {},
   "outputs": [
    {
     "name": "stdout",
     "output_type": "stream",
     "text": [
      "####\n"
     ]
    }
   ],
   "source": [
    "print(\"{:#^4}\".format(\"#\"))"
   ]
  },
  {
   "cell_type": "code",
   "execution_count": null,
   "metadata": {},
   "outputs": [],
   "source": []
  }
 ],
 "metadata": {
  "kernelspec": {
   "display_name": "Python 3",
   "language": "python",
   "name": "python3"
  },
  "language_info": {
   "codemirror_mode": {
    "name": "ipython",
    "version": 3
   },
   "file_extension": ".py",
   "mimetype": "text/x-python",
   "name": "python",
   "nbconvert_exporter": "python",
   "pygments_lexer": "ipython3",
   "version": "3.8.3"
  }
 },
 "nbformat": 4,
 "nbformat_minor": 4
}
