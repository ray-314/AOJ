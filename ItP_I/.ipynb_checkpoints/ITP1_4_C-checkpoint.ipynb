{
 "cells": [
  {
   "cell_type": "markdown",
   "metadata": {},
   "source": [
    "## ITP1_4_C\n",
    "Simple Calculator"
   ]
  },
  {
   "cell_type": "markdown",
   "metadata": {},
   "source": [
    "I have to write a program which reads two integers a, b and an operator op, and then prints the value of a op b."
   ]
  },
  {
   "cell_type": "code",
   "execution_count": 9,
   "metadata": {},
   "outputs": [
    {
     "name": "stdout",
     "output_type": "stream",
     "text": [
      "1 + 2\n",
      "56 - 18\n",
      "13 * 2\n",
      "100 / 10\n",
      "27 + 81\n",
      "0 ? 0\n",
      "3\n",
      "38\n",
      "26\n",
      "10\n",
      "108\n"
     ]
    }
   ],
   "source": [
    "x=list()\n",
    "while True:\n",
    "    z =  list(input().split())\n",
    "    a=int(z[0])\n",
    "    b=int(z[2])\n",
    "    if z[1]==\"?\":\n",
    "        break\n",
    "    elif z[1]==\"+\":\n",
    "        x.append(a+b)\n",
    "    elif z[1]==\"-\":\n",
    "        x.append(a-b)\n",
    "    elif z[1]==\"*\":\n",
    "        x.append(a*b)\n",
    "    elif z[1]==\"/\":\n",
    "        x.append(a//b)\n",
    "\n",
    "for i in range(len(x)):\n",
    "    print(x[i])"
   ]
  },
  {
   "cell_type": "code",
   "execution_count": null,
   "metadata": {},
   "outputs": [],
   "source": []
  }
 ],
 "metadata": {
  "kernelspec": {
   "display_name": "Python 3",
   "language": "python",
   "name": "python3"
  },
  "language_info": {
   "codemirror_mode": {
    "name": "ipython",
    "version": 3
   },
   "file_extension": ".py",
   "mimetype": "text/x-python",
   "name": "python",
   "nbconvert_exporter": "python",
   "pygments_lexer": "ipython3",
   "version": "3.8.3"
  }
 },
 "nbformat": 4,
 "nbformat_minor": 4
}
